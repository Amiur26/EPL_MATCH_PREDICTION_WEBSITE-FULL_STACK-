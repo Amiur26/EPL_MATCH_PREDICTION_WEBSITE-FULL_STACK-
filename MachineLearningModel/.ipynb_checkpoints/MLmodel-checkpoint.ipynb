{
 "cells": [
  {
   "cell_type": "code",
   "execution_count": 1,
   "id": "b36b264d-2db0-4384-a56f-1cba0a60ed42",
   "metadata": {},
   "outputs": [],
   "source": [
    "import joblib\n",
    "import pandas as pd"
   ]
  },
  {
   "cell_type": "code",
   "execution_count": 2,
   "id": "5a1380e8-f923-4fcd-bfa8-0a2a5657caf5",
   "metadata": {},
   "outputs": [
    {
     "name": "stdout",
     "output_type": "stream",
     "text": [
      "Requirement already satisfied: scikit-learn==1.5.1 in /home/asus/.config/jupyterlab-desktop/jlab_server/lib/python3.12/site-packages (1.5.1)\n",
      "Requirement already satisfied: numpy>=1.19.5 in /home/asus/.config/jupyterlab-desktop/jlab_server/lib/python3.12/site-packages (from scikit-learn==1.5.1) (1.26.4)\n",
      "Requirement already satisfied: scipy>=1.6.0 in /home/asus/.config/jupyterlab-desktop/jlab_server/lib/python3.12/site-packages (from scikit-learn==1.5.1) (1.14.1)\n",
      "Requirement already satisfied: joblib>=1.2.0 in /home/asus/.config/jupyterlab-desktop/jlab_server/lib/python3.12/site-packages (from scikit-learn==1.5.1) (1.4.2)\n",
      "Requirement already satisfied: threadpoolctl>=3.1.0 in /home/asus/.config/jupyterlab-desktop/jlab_server/lib/python3.12/site-packages (from scikit-learn==1.5.1) (3.5.0)\n",
      "Note: you may need to restart the kernel to use updated packages.\n"
     ]
    }
   ],
   "source": [
    "pip install scikit-learn==1.5.1"
   ]
  },
  {
   "cell_type": "code",
   "execution_count": 3,
   "id": "b8a11bbf-fab5-47c2-b9dd-a744a56cd980",
   "metadata": {},
   "outputs": [
    {
     "name": "stdout",
     "output_type": "stream",
     "text": [
      "1.5.1\n"
     ]
    }
   ],
   "source": [
    "import sklearn; print(sklearn.__version__)"
   ]
  },
  {
   "cell_type": "code",
   "execution_count": 4,
   "id": "c43f2066-549e-4e3c-b7e0-292e8eaa41e4",
   "metadata": {},
   "outputs": [
    {
     "name": "stdout",
     "output_type": "stream",
     "text": [
      "Requirement already satisfied: xgboost==1.6.0 in /home/asus/.config/jupyterlab-desktop/jlab_server/lib/python3.12/site-packages (1.6.0)\n",
      "Requirement already satisfied: numpy in /home/asus/.config/jupyterlab-desktop/jlab_server/lib/python3.12/site-packages (from xgboost==1.6.0) (1.26.4)\n",
      "Requirement already satisfied: scipy in /home/asus/.config/jupyterlab-desktop/jlab_server/lib/python3.12/site-packages (from xgboost==1.6.0) (1.14.1)\n",
      "Note: you may need to restart the kernel to use updated packages.\n"
     ]
    }
   ],
   "source": [
    "pip install xgboost==2.1.2"
   ]
  },
  {
   "cell_type": "code",
   "execution_count": 7,
   "id": "160cc624-67ed-4122-9ad2-f0a4b504517a",
   "metadata": {},
   "outputs": [
    {
     "name": "stdout",
     "output_type": "stream",
     "text": [
      "1.6.0\n"
     ]
    }
   ],
   "source": [
    "import xgboost; print(xgboost.__version__)\n"
   ]
  },
  {
   "cell_type": "code",
   "execution_count": 6,
   "id": "11fb298e-a3d4-4462-884c-48e58c757fa2",
   "metadata": {},
   "outputs": [
    {
     "ename": "XGBoostError",
     "evalue": "[18:04:59] ../include/xgboost/json.h:79: Invalid cast, from Array to Object\nStack trace:\n  [bt] (0) /home/asus/.config/jupyterlab-desktop/jlab_server/lib/python3.12/site-packages/xgboost/lib/libxgboost.so(+0xa6589) [0x721b446a6589]\n  [bt] (1) /home/asus/.config/jupyterlab-desktop/jlab_server/lib/python3.12/site-packages/xgboost/lib/libxgboost.so(+0xcc7e8) [0x721b446cc7e8]\n  [bt] (2) /home/asus/.config/jupyterlab-desktop/jlab_server/lib/python3.12/site-packages/xgboost/lib/libxgboost.so(+0x1d50e3) [0x721b447d50e3]\n  [bt] (3) /home/asus/.config/jupyterlab-desktop/jlab_server/lib/python3.12/site-packages/xgboost/lib/libxgboost.so(+0x210bdf) [0x721b44810bdf]\n  [bt] (4) /home/asus/.config/jupyterlab-desktop/jlab_server/lib/python3.12/site-packages/xgboost/lib/libxgboost.so(+0x21cef8) [0x721b4481cef8]\n  [bt] (5) /home/asus/.config/jupyterlab-desktop/jlab_server/lib/python3.12/site-packages/xgboost/lib/libxgboost.so(XGBoosterUnserializeFromBuffer+0x5c) [0x721b446a7edc]\n  [bt] (6) /home/asus/.config/jupyterlab-desktop/jlab_server/lib/python3.12/lib-dynload/../../libffi.so.8(+0x6a4a) [0x721bd41c1a4a]\n  [bt] (7) /home/asus/.config/jupyterlab-desktop/jlab_server/lib/python3.12/lib-dynload/../../libffi.so.8(+0x5fea) [0x721bd41c0fea]\n  [bt] (8) /home/asus/.config/jupyterlab-desktop/jlab_server/lib/python3.12/lib-dynload/_ctypes.cpython-312-x86_64-linux-gnu.so(+0x134b9) [0x721bd4c114b9]\n\n",
     "output_type": "error",
     "traceback": [
      "\u001b[0;31m---------------------------------------------------------------------------\u001b[0m",
      "\u001b[0;31mXGBoostError\u001b[0m                              Traceback (most recent call last)",
      "Cell \u001b[0;32mIn[6], line 5\u001b[0m\n\u001b[1;32m      3\u001b[0m home_metrics \u001b[38;5;241m=\u001b[39m pd\u001b[38;5;241m.\u001b[39mread_pickle(\u001b[38;5;124m\"\u001b[39m\u001b[38;5;124m/home/asus/Desktop/Website/MachineLearningModel/home_metrics.pkl\u001b[39m\u001b[38;5;124m\"\u001b[39m)\n\u001b[1;32m      4\u001b[0m away_metrics \u001b[38;5;241m=\u001b[39m pd\u001b[38;5;241m.\u001b[39mread_pickle(\u001b[38;5;124m\"\u001b[39m\u001b[38;5;124m/home/asus/Desktop/Website/MachineLearningModel/away_metrics.pkl\u001b[39m\u001b[38;5;124m\"\u001b[39m)\n\u001b[0;32m----> 5\u001b[0m refined_voting_ensemble \u001b[38;5;241m=\u001b[39m\u001b[43mjoblib\u001b[49m\u001b[38;5;241;43m.\u001b[39;49m\u001b[43mload\u001b[49m\u001b[43m(\u001b[49m\u001b[38;5;124;43m\"\u001b[39;49m\u001b[38;5;124;43m/home/asus/Desktop/Website/MachineLearningModel/refined_voting_ensemble.pkl\u001b[39;49m\u001b[38;5;124;43m\"\u001b[39;49m\u001b[43m)\u001b[49m\n",
      "File \u001b[0;32m~/.config/jupyterlab-desktop/jlab_server/lib/python3.12/site-packages/joblib/numpy_pickle.py:658\u001b[0m, in \u001b[0;36mload\u001b[0;34m(filename, mmap_mode)\u001b[0m\n\u001b[1;32m    652\u001b[0m             \u001b[38;5;28;01mif\u001b[39;00m \u001b[38;5;28misinstance\u001b[39m(fobj, \u001b[38;5;28mstr\u001b[39m):\n\u001b[1;32m    653\u001b[0m                 \u001b[38;5;66;03m# if the returned file object is a string, this means we\u001b[39;00m\n\u001b[1;32m    654\u001b[0m                 \u001b[38;5;66;03m# try to load a pickle file generated with an version of\u001b[39;00m\n\u001b[1;32m    655\u001b[0m                 \u001b[38;5;66;03m# Joblib so we load it with joblib compatibility function.\u001b[39;00m\n\u001b[1;32m    656\u001b[0m                 \u001b[38;5;28;01mreturn\u001b[39;00m load_compatibility(fobj)\n\u001b[0;32m--> 658\u001b[0m             obj \u001b[38;5;241m=\u001b[39m \u001b[43m_unpickle\u001b[49m\u001b[43m(\u001b[49m\u001b[43mfobj\u001b[49m\u001b[43m,\u001b[49m\u001b[43m \u001b[49m\u001b[43mfilename\u001b[49m\u001b[43m,\u001b[49m\u001b[43m \u001b[49m\u001b[43mmmap_mode\u001b[49m\u001b[43m)\u001b[49m\n\u001b[1;32m    659\u001b[0m \u001b[38;5;28;01mreturn\u001b[39;00m obj\n",
      "File \u001b[0;32m~/.config/jupyterlab-desktop/jlab_server/lib/python3.12/site-packages/joblib/numpy_pickle.py:577\u001b[0m, in \u001b[0;36m_unpickle\u001b[0;34m(fobj, filename, mmap_mode)\u001b[0m\n\u001b[1;32m    575\u001b[0m obj \u001b[38;5;241m=\u001b[39m \u001b[38;5;28;01mNone\u001b[39;00m\n\u001b[1;32m    576\u001b[0m \u001b[38;5;28;01mtry\u001b[39;00m:\n\u001b[0;32m--> 577\u001b[0m     obj \u001b[38;5;241m=\u001b[39m \u001b[43munpickler\u001b[49m\u001b[38;5;241;43m.\u001b[39;49m\u001b[43mload\u001b[49m\u001b[43m(\u001b[49m\u001b[43m)\u001b[49m\n\u001b[1;32m    578\u001b[0m     \u001b[38;5;28;01mif\u001b[39;00m unpickler\u001b[38;5;241m.\u001b[39mcompat_mode:\n\u001b[1;32m    579\u001b[0m         warnings\u001b[38;5;241m.\u001b[39mwarn(\u001b[38;5;124m\"\u001b[39m\u001b[38;5;124mThe file \u001b[39m\u001b[38;5;124m'\u001b[39m\u001b[38;5;132;01m%s\u001b[39;00m\u001b[38;5;124m'\u001b[39m\u001b[38;5;124m has been generated with a \u001b[39m\u001b[38;5;124m\"\u001b[39m\n\u001b[1;32m    580\u001b[0m                       \u001b[38;5;124m\"\u001b[39m\u001b[38;5;124mjoblib version less than 0.10. \u001b[39m\u001b[38;5;124m\"\u001b[39m\n\u001b[1;32m    581\u001b[0m                       \u001b[38;5;124m\"\u001b[39m\u001b[38;5;124mPlease regenerate this pickle file.\u001b[39m\u001b[38;5;124m\"\u001b[39m\n\u001b[1;32m    582\u001b[0m                       \u001b[38;5;241m%\u001b[39m filename,\n\u001b[1;32m    583\u001b[0m                       \u001b[38;5;167;01mDeprecationWarning\u001b[39;00m, stacklevel\u001b[38;5;241m=\u001b[39m\u001b[38;5;241m3\u001b[39m)\n",
      "File \u001b[0;32m~/.config/jupyterlab-desktop/jlab_server/lib/python3.12/pickle.py:1248\u001b[0m, in \u001b[0;36m_Unpickler.load\u001b[0;34m(self)\u001b[0m\n\u001b[1;32m   1246\u001b[0m             \u001b[38;5;28;01mraise\u001b[39;00m \u001b[38;5;167;01mEOFError\u001b[39;00m\n\u001b[1;32m   1247\u001b[0m         \u001b[38;5;28;01massert\u001b[39;00m \u001b[38;5;28misinstance\u001b[39m(key, bytes_types)\n\u001b[0;32m-> 1248\u001b[0m         \u001b[43mdispatch\u001b[49m\u001b[43m[\u001b[49m\u001b[43mkey\u001b[49m\u001b[43m[\u001b[49m\u001b[38;5;241;43m0\u001b[39;49m\u001b[43m]\u001b[49m\u001b[43m]\u001b[49m\u001b[43m(\u001b[49m\u001b[38;5;28;43mself\u001b[39;49m\u001b[43m)\u001b[49m\n\u001b[1;32m   1249\u001b[0m \u001b[38;5;28;01mexcept\u001b[39;00m _Stop \u001b[38;5;28;01mas\u001b[39;00m stopinst:\n\u001b[1;32m   1250\u001b[0m     \u001b[38;5;28;01mreturn\u001b[39;00m stopinst\u001b[38;5;241m.\u001b[39mvalue\n",
      "File \u001b[0;32m~/.config/jupyterlab-desktop/jlab_server/lib/python3.12/site-packages/joblib/numpy_pickle.py:402\u001b[0m, in \u001b[0;36mNumpyUnpickler.load_build\u001b[0;34m(self)\u001b[0m\n\u001b[1;32m    394\u001b[0m \u001b[38;5;28;01mdef\u001b[39;00m \u001b[38;5;21mload_build\u001b[39m(\u001b[38;5;28mself\u001b[39m):\n\u001b[1;32m    395\u001b[0m \u001b[38;5;250m    \u001b[39m\u001b[38;5;124;03m\"\"\"Called to set the state of a newly created object.\u001b[39;00m\n\u001b[1;32m    396\u001b[0m \n\u001b[1;32m    397\u001b[0m \u001b[38;5;124;03m    We capture it to replace our place-holder objects, NDArrayWrapper or\u001b[39;00m\n\u001b[0;32m   (...)\u001b[0m\n\u001b[1;32m    400\u001b[0m \u001b[38;5;124;03m    NDArrayWrapper is used for backward compatibility with joblib <= 0.9.\u001b[39;00m\n\u001b[1;32m    401\u001b[0m \u001b[38;5;124;03m    \"\"\"\u001b[39;00m\n\u001b[0;32m--> 402\u001b[0m     \u001b[43mUnpickler\u001b[49m\u001b[38;5;241;43m.\u001b[39;49m\u001b[43mload_build\u001b[49m\u001b[43m(\u001b[49m\u001b[38;5;28;43mself\u001b[39;49m\u001b[43m)\u001b[49m\n\u001b[1;32m    404\u001b[0m     \u001b[38;5;66;03m# For backward compatibility, we support NDArrayWrapper objects.\u001b[39;00m\n\u001b[1;32m    405\u001b[0m     \u001b[38;5;28;01mif\u001b[39;00m \u001b[38;5;28misinstance\u001b[39m(\u001b[38;5;28mself\u001b[39m\u001b[38;5;241m.\u001b[39mstack[\u001b[38;5;241m-\u001b[39m\u001b[38;5;241m1\u001b[39m], (NDArrayWrapper, NumpyArrayWrapper)):\n",
      "File \u001b[0;32m~/.config/jupyterlab-desktop/jlab_server/lib/python3.12/pickle.py:1753\u001b[0m, in \u001b[0;36m_Unpickler.load_build\u001b[0;34m(self)\u001b[0m\n\u001b[1;32m   1751\u001b[0m setstate \u001b[38;5;241m=\u001b[39m \u001b[38;5;28mgetattr\u001b[39m(inst, \u001b[38;5;124m\"\u001b[39m\u001b[38;5;124m__setstate__\u001b[39m\u001b[38;5;124m\"\u001b[39m, \u001b[38;5;28;01mNone\u001b[39;00m)\n\u001b[1;32m   1752\u001b[0m \u001b[38;5;28;01mif\u001b[39;00m setstate \u001b[38;5;129;01mis\u001b[39;00m \u001b[38;5;129;01mnot\u001b[39;00m \u001b[38;5;28;01mNone\u001b[39;00m:\n\u001b[0;32m-> 1753\u001b[0m     \u001b[43msetstate\u001b[49m\u001b[43m(\u001b[49m\u001b[43mstate\u001b[49m\u001b[43m)\u001b[49m\n\u001b[1;32m   1754\u001b[0m     \u001b[38;5;28;01mreturn\u001b[39;00m\n\u001b[1;32m   1755\u001b[0m slotstate \u001b[38;5;241m=\u001b[39m \u001b[38;5;28;01mNone\u001b[39;00m\n",
      "File \u001b[0;32m~/.config/jupyterlab-desktop/jlab_server/lib/python3.12/site-packages/xgboost/core.py:1496\u001b[0m, in \u001b[0;36mBooster.__setstate__\u001b[0;34m(self, state)\u001b[0m\n\u001b[1;32m   1494\u001b[0m     length \u001b[38;5;241m=\u001b[39m c_bst_ulong(\u001b[38;5;28mlen\u001b[39m(buf))\n\u001b[1;32m   1495\u001b[0m     ptr \u001b[38;5;241m=\u001b[39m (ctypes\u001b[38;5;241m.\u001b[39mc_char \u001b[38;5;241m*\u001b[39m \u001b[38;5;28mlen\u001b[39m(buf))\u001b[38;5;241m.\u001b[39mfrom_buffer(buf)\n\u001b[0;32m-> 1496\u001b[0m     \u001b[43m_check_call\u001b[49m\u001b[43m(\u001b[49m\n\u001b[1;32m   1497\u001b[0m \u001b[43m        \u001b[49m\u001b[43m_LIB\u001b[49m\u001b[38;5;241;43m.\u001b[39;49m\u001b[43mXGBoosterUnserializeFromBuffer\u001b[49m\u001b[43m(\u001b[49m\u001b[43mhandle\u001b[49m\u001b[43m,\u001b[49m\u001b[43m \u001b[49m\u001b[43mptr\u001b[49m\u001b[43m,\u001b[49m\u001b[43m \u001b[49m\u001b[43mlength\u001b[49m\u001b[43m)\u001b[49m\u001b[43m)\u001b[49m\n\u001b[1;32m   1498\u001b[0m     state[\u001b[38;5;124m'\u001b[39m\u001b[38;5;124mhandle\u001b[39m\u001b[38;5;124m'\u001b[39m] \u001b[38;5;241m=\u001b[39m handle\n\u001b[1;32m   1499\u001b[0m \u001b[38;5;28mself\u001b[39m\u001b[38;5;241m.\u001b[39m\u001b[38;5;18m__dict__\u001b[39m\u001b[38;5;241m.\u001b[39mupdate(state)\n",
      "File \u001b[0;32m~/.config/jupyterlab-desktop/jlab_server/lib/python3.12/site-packages/xgboost/core.py:203\u001b[0m, in \u001b[0;36m_check_call\u001b[0;34m(ret)\u001b[0m\n\u001b[1;32m    192\u001b[0m \u001b[38;5;250m\u001b[39m\u001b[38;5;124;03m\"\"\"Check the return value of C API call\u001b[39;00m\n\u001b[1;32m    193\u001b[0m \n\u001b[1;32m    194\u001b[0m \u001b[38;5;124;03mThis function will raise exception when error occurs.\u001b[39;00m\n\u001b[0;32m   (...)\u001b[0m\n\u001b[1;32m    200\u001b[0m \u001b[38;5;124;03m    return value from API calls\u001b[39;00m\n\u001b[1;32m    201\u001b[0m \u001b[38;5;124;03m\"\"\"\u001b[39;00m\n\u001b[1;32m    202\u001b[0m \u001b[38;5;28;01mif\u001b[39;00m ret \u001b[38;5;241m!=\u001b[39m \u001b[38;5;241m0\u001b[39m:\n\u001b[0;32m--> 203\u001b[0m     \u001b[38;5;28;01mraise\u001b[39;00m XGBoostError(py_str(_LIB\u001b[38;5;241m.\u001b[39mXGBGetLastError()))\n",
      "\u001b[0;31mXGBoostError\u001b[0m: [18:04:59] ../include/xgboost/json.h:79: Invalid cast, from Array to Object\nStack trace:\n  [bt] (0) /home/asus/.config/jupyterlab-desktop/jlab_server/lib/python3.12/site-packages/xgboost/lib/libxgboost.so(+0xa6589) [0x721b446a6589]\n  [bt] (1) /home/asus/.config/jupyterlab-desktop/jlab_server/lib/python3.12/site-packages/xgboost/lib/libxgboost.so(+0xcc7e8) [0x721b446cc7e8]\n  [bt] (2) /home/asus/.config/jupyterlab-desktop/jlab_server/lib/python3.12/site-packages/xgboost/lib/libxgboost.so(+0x1d50e3) [0x721b447d50e3]\n  [bt] (3) /home/asus/.config/jupyterlab-desktop/jlab_server/lib/python3.12/site-packages/xgboost/lib/libxgboost.so(+0x210bdf) [0x721b44810bdf]\n  [bt] (4) /home/asus/.config/jupyterlab-desktop/jlab_server/lib/python3.12/site-packages/xgboost/lib/libxgboost.so(+0x21cef8) [0x721b4481cef8]\n  [bt] (5) /home/asus/.config/jupyterlab-desktop/jlab_server/lib/python3.12/site-packages/xgboost/lib/libxgboost.so(XGBoosterUnserializeFromBuffer+0x5c) [0x721b446a7edc]\n  [bt] (6) /home/asus/.config/jupyterlab-desktop/jlab_server/lib/python3.12/lib-dynload/../../libffi.so.8(+0x6a4a) [0x721bd41c1a4a]\n  [bt] (7) /home/asus/.config/jupyterlab-desktop/jlab_server/lib/python3.12/lib-dynload/../../libffi.so.8(+0x5fea) [0x721bd41c0fea]\n  [bt] (8) /home/asus/.config/jupyterlab-desktop/jlab_server/lib/python3.12/lib-dynload/_ctypes.cpython-312-x86_64-linux-gnu.so(+0x134b9) [0x721bd4c114b9]\n\n"
     ]
    }
   ],
   "source": [
    "# Load saved files\n",
    "team_encoder = joblib.load(\"/home/asus/Desktop/Website/MachineLearningModel/team_encoder.pkl\")\n",
    "home_metrics = pd.read_pickle(\"/home/asus/Desktop/Website/MachineLearningModel/home_metrics.pkl\")\n",
    "away_metrics = pd.read_pickle(\"/home/asus/Desktop/Website/MachineLearningModel/away_metrics.pkl\")\n",
    "refined_voting_ensemble =joblib.load(\"/home/asus/Desktop/Website/MachineLearningModel/refined_voting_ensemble.pkl\")\n"
   ]
  }
 ],
 "metadata": {
  "kernelspec": {
   "display_name": "Python 3 (ipykernel)",
   "language": "python",
   "name": "python3"
  },
  "language_info": {
   "codemirror_mode": {
    "name": "ipython",
    "version": 3
   },
   "file_extension": ".py",
   "mimetype": "text/x-python",
   "name": "python",
   "nbconvert_exporter": "python",
   "pygments_lexer": "ipython3",
   "version": "3.12.5"
  }
 },
 "nbformat": 4,
 "nbformat_minor": 5
}
