{
 "cells": [
  {
   "cell_type": "code",
   "execution_count": 3,
   "id": "b36b264d-2db0-4384-a56f-1cba0a60ed42",
   "metadata": {},
   "outputs": [],
   "source": [
    "import joblib\n",
    "import pandas as pd"
   ]
  },
  {
   "cell_type": "code",
   "execution_count": 4,
   "id": "b8a11bbf-fab5-47c2-b9dd-a744a56cd980",
   "metadata": {},
   "outputs": [
    {
     "name": "stdout",
     "output_type": "stream",
     "text": [
      "1.5.1\n"
     ]
    }
   ],
   "source": [
    "import sklearn; print(sklearn.__version__)"
   ]
  },
  {
   "cell_type": "code",
   "execution_count": 5,
   "id": "c43f2066-549e-4e3c-b7e0-292e8eaa41e4",
   "metadata": {},
   "outputs": [
    {
     "name": "stdout",
     "output_type": "stream",
     "text": [
      "Requirement already satisfied: xgboost==2.1.2 in /home/asus/.config/jupyterlab-desktop/jlab_server/lib/python3.12/site-packages (2.1.2)\n",
      "Requirement already satisfied: numpy in /home/asus/.config/jupyterlab-desktop/jlab_server/lib/python3.12/site-packages (from xgboost==2.1.2) (1.26.4)\n",
      "Requirement already satisfied: nvidia-nccl-cu12 in /home/asus/.config/jupyterlab-desktop/jlab_server/lib/python3.12/site-packages (from xgboost==2.1.2) (2.23.4)\n",
      "Requirement already satisfied: scipy in /home/asus/.config/jupyterlab-desktop/jlab_server/lib/python3.12/site-packages (from xgboost==2.1.2) (1.14.1)\n",
      "Note: you may need to restart the kernel to use updated packages.\n"
     ]
    }
   ],
   "source": [
    "pip install xgboost==2.1.2"
   ]
  },
  {
   "cell_type": "code",
   "execution_count": 6,
   "id": "160cc624-67ed-4122-9ad2-f0a4b504517a",
   "metadata": {},
   "outputs": [
    {
     "name": "stdout",
     "output_type": "stream",
     "text": [
      "2.1.2\n"
     ]
    }
   ],
   "source": [
    "import xgboost; print(xgboost.__version__)\n"
   ]
  },
  {
   "cell_type": "code",
   "execution_count": 7,
   "id": "11fb298e-a3d4-4462-884c-48e58c757fa2",
   "metadata": {},
   "outputs": [],
   "source": [
    "# Load saved files\n",
    "team_encoder = joblib.load(\"/home/asus/Desktop/Website/MachineLearningModel/team_encoder.pkl\")\n",
    "home_metrics = pd.read_pickle(\"/home/asus/Desktop/Website/MachineLearningModel/home_metrics.pkl\")\n",
    "away_metrics = pd.read_pickle(\"/home/asus/Desktop/Website/MachineLearningModel/away_metrics.pkl\")\n",
    "refined_voting_ensemble =joblib.load(\"/home/asus/Desktop/Website/MachineLearningModel/refined_voting_ensemble.pkl\")\n"
   ]
  },
  {
   "cell_type": "code",
   "execution_count": 8,
   "id": "7134663c-a9dc-48bb-8db7-04b2f39a920b",
   "metadata": {},
   "outputs": [],
   "source": [
    "import joblib"
   ]
  },
  {
   "cell_type": "code",
   "execution_count": 9,
   "id": "a2e1461f-3198-437d-b897-9d74dabbe942",
   "metadata": {},
   "outputs": [],
   "source": [
    "# Load train_data and test_data\n",
    "train_data = joblib.load('/home/asus/Desktop/Website/MachineLearningModel/train_data.joblib')\n",
    "test_data = joblib.load('/home/asus/Desktop/Website/MachineLearningModel/test_data.joblib')"
   ]
  },
  {
   "cell_type": "code",
   "execution_count": 10,
   "id": "99ba9a32-bde4-4ce3-957c-ba873cd01b72",
   "metadata": {},
   "outputs": [],
   "source": [
    "def predict_winner(home_team, away_team, team_encoder, home_metrics, away_metrics,\n",
    "model):\n",
    "    import pandas as pd\n",
    "# Encode team names\n",
    "    home_team_encoded = team_encoder.transform([home_team])[0]\n",
    "    away_team_encoded = team_encoder.transform([away_team])[0]\n",
    "# Retrieve metrics for the teams\n",
    "    home_team_features = home_metrics.loc[home_team_encoded].values\n",
    "    away_team_features = away_metrics.loc[away_team_encoded].values\n",
    "# Construct input feature array\n",
    "    match_features = [\n",
    "    home_team_encoded, # HomeTeam\n",
    "    away_team_encoded, # AwayTeam\n",
    "    home_team_features[0], # HS\n",
    "    away_team_features[0], # AS\n",
    "    home_team_features[1], # HST\n",
    "    away_team_features[1], # AST\n",
    "    home_team_features[2], # HC\n",
    "    away_team_features[2], # AC\n",
    "    ]\n",
    "# Convert input to a DataFrame with feature names\n",
    "    feature_names = ['HomeTeam', 'AwayTeam', 'HS', 'AS', 'HST', 'AST', 'HC', 'AC']\n",
    "    input_df = pd.DataFrame([match_features], columns=feature_names)\n",
    "# Use VotingClassifier's `predict` method explicitly\n",
    "    prediction = model.predict(input_df)[0]\n",
    "# Decode the prediction to a match outcome\n",
    "    return \"Home Win\" if prediction == 0 else \"Away Win\""
   ]
  },
  {
   "cell_type": "code",
   "execution_count": 13,
   "id": "4fd1382f-ee3d-4422-bc6e-13e50b261ccb",
   "metadata": {},
   "outputs": [
    {
     "name": "stdout",
     "output_type": "stream",
     "text": [
      "Predicted Winner: Arsenal\n"
     ]
    }
   ],
   "source": [
    "home_team_name = \"Sunderland\"\n",
    "away_team_name = \"Arsenal\"\n",
    "# Predict the match outcome\n",
    "predicted_outcome = predict_winner(\n",
    "home_team=home_team_name,\n",
    "away_team=away_team_name,\n",
    "team_encoder=team_encoder,\n",
    "home_metrics=home_metrics,\n",
    "away_metrics=away_metrics,\n",
    "model=refined_voting_ensemble\n",
    ")\n",
    "if(predicted_outcome==\"Away Win\"):\n",
    " print(f\"Predicted Winner: {away_team_name}\")\n",
    "else:\n",
    " print(f\"Predicted Winner:{home_team_name}\")\n",
    "\n"
   ]
  },
  {
   "cell_type": "code",
   "execution_count": null,
   "id": "1270ab9b-ab92-46b4-8d8d-98c0b47b31b6",
   "metadata": {},
   "outputs": [],
   "source": []
  }
 ],
 "metadata": {
  "kernelspec": {
   "display_name": "Python 3 (ipykernel)",
   "language": "python",
   "name": "python3"
  },
  "language_info": {
   "codemirror_mode": {
    "name": "ipython",
    "version": 3
   },
   "file_extension": ".py",
   "mimetype": "text/x-python",
   "name": "python",
   "nbconvert_exporter": "python",
   "pygments_lexer": "ipython3",
   "version": "3.12.5"
  }
 },
 "nbformat": 4,
 "nbformat_minor": 5
}
